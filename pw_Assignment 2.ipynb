{
 "cells": [
  {
   "cell_type": "code",
   "execution_count": 2,
   "id": "877a74c6",
   "metadata": {},
   "outputs": [],
   "source": [
    "# question 1 : we can write comment in python by adding a \"#\" in the starting of a statement.There are basically two types of comments : 1)multiline 2)single line :"
   ]
  },
  {
   "cell_type": "code",
   "execution_count": 3,
   "id": "f69f975e",
   "metadata": {},
   "outputs": [
    {
     "data": {
      "text/plain": [
       "'\" a multiline comment can be added by putting three apostrophe\\'s in the begining and in the end.\\nthis is an example of a multiline comment.'"
      ]
     },
     "execution_count": 3,
     "metadata": {},
     "output_type": "execute_result"
    }
   ],
   "source": [
    "\"\"\"\" a multiline comment can be added by putting three apostrophe's in the begining and in the end.\n",
    "this is an example of a multiline comment.\"\"\""
   ]
  },
  {
   "cell_type": "code",
   "execution_count": 4,
   "id": "966c1fe8",
   "metadata": {},
   "outputs": [],
   "source": [
    "#question 2:"
   ]
  },
  {
   "cell_type": "code",
   "execution_count": 5,
   "id": "9e786342",
   "metadata": {},
   "outputs": [],
   "source": [
    "#A variable is a named location used to store data in the computer's memory. Variables are like containers that hold values, and these values can be of different types, such as integers, floats, strings, or other data types."
   ]
  },
  {
   "cell_type": "code",
   "execution_count": null,
   "id": "7bde8611",
   "metadata": {},
   "outputs": [],
   "source": [
    "#we can assign values to variables by just defining their names and write the value after an equal to whichever we want to assign.\n",
    "#for ex: age = 78,count = 0, name = \"pw\""
   ]
  },
  {
   "cell_type": "code",
   "execution_count": null,
   "id": "66df548c",
   "metadata": {},
   "outputs": [],
   "source": [
    "#question 3"
   ]
  },
  {
   "cell_type": "code",
   "execution_count": null,
   "id": "b0f7bb08",
   "metadata": {},
   "outputs": [],
   "source": [
    "#we can convert one datatype to another by typecasting it\n",
    "#ie. simply writing the type of datatype which we want to convert it into and whithin a bracket write the variable.\n",
    "#for ex: int(input()),int(name),float(weight)"
   ]
  },
  {
   "cell_type": "code",
   "execution_count": 9,
   "id": "6b42c930",
   "metadata": {},
   "outputs": [],
   "source": [
    "#question 4"
   ]
  },
  {
   "cell_type": "code",
   "execution_count": null,
   "id": "1cc46c1c",
   "metadata": {},
   "outputs": [],
   "source": [
    "#we can write it in platforms like jupyter notebook and by pressing shift +enter we run the code"
   ]
  },
  {
   "cell_type": "code",
   "execution_count": 6,
   "id": "dc55eb5b",
   "metadata": {},
   "outputs": [],
   "source": [
    "#question 5"
   ]
  },
  {
   "cell_type": "code",
   "execution_count": 7,
   "id": "7d515dba",
   "metadata": {},
   "outputs": [],
   "source": [
    "my_list = [1,2,3,4,5]"
   ]
  },
  {
   "cell_type": "code",
   "execution_count": 8,
   "id": "b407e0cd",
   "metadata": {},
   "outputs": [
    {
     "data": {
      "text/plain": [
       "[2, 3]"
      ]
     },
     "execution_count": 8,
     "metadata": {},
     "output_type": "execute_result"
    }
   ],
   "source": [
    "my_list[1:3]"
   ]
  },
  {
   "cell_type": "code",
   "execution_count": null,
   "id": "b7c90bac",
   "metadata": {},
   "outputs": [],
   "source": [
    "#question 6"
   ]
  },
  {
   "cell_type": "code",
   "execution_count": 10,
   "id": "b0b14872",
   "metadata": {},
   "outputs": [],
   "source": [
    "# a number which is of the form a+bi where i is the square root of -1 are called complex numbers, in python, complex numbers can be written by writing j in place of i\n"
   ]
  },
  {
   "cell_type": "code",
   "execution_count": 11,
   "id": "8dde7f56",
   "metadata": {},
   "outputs": [],
   "source": [
    "#for ex:"
   ]
  },
  {
   "cell_type": "code",
   "execution_count": 12,
   "id": "cba163de",
   "metadata": {},
   "outputs": [
    {
     "data": {
      "text/plain": [
       "(3+2j)"
      ]
     },
     "execution_count": 12,
     "metadata": {},
     "output_type": "execute_result"
    }
   ],
   "source": [
    "3+2j"
   ]
  },
  {
   "cell_type": "code",
   "execution_count": 13,
   "id": "c353c659",
   "metadata": {},
   "outputs": [],
   "source": [
    "#question 7"
   ]
  },
  {
   "cell_type": "code",
   "execution_count": 14,
   "id": "2c2520f6",
   "metadata": {},
   "outputs": [],
   "source": [
    "age = 25"
   ]
  },
  {
   "cell_type": "code",
   "execution_count": 15,
   "id": "31fadbb1",
   "metadata": {},
   "outputs": [],
   "source": [
    "#question 8"
   ]
  },
  {
   "cell_type": "code",
   "execution_count": 16,
   "id": "acd16c2f",
   "metadata": {},
   "outputs": [],
   "source": [
    "price = 9.99  #this variable has a float datatype"
   ]
  },
  {
   "cell_type": "code",
   "execution_count": 19,
   "id": "cde25a55",
   "metadata": {},
   "outputs": [],
   "source": [
    "#question 9"
   ]
  },
  {
   "cell_type": "code",
   "execution_count": 17,
   "id": "0bd58af7",
   "metadata": {},
   "outputs": [],
   "source": [
    "name = \"heena parveen\""
   ]
  },
  {
   "cell_type": "code",
   "execution_count": 18,
   "id": "30f54b10",
   "metadata": {},
   "outputs": [
    {
     "data": {
      "text/plain": [
       "'heena parveen'"
      ]
     },
     "execution_count": 18,
     "metadata": {},
     "output_type": "execute_result"
    }
   ],
   "source": [
    "name"
   ]
  },
  {
   "cell_type": "code",
   "execution_count": 20,
   "id": "85a6aae8",
   "metadata": {},
   "outputs": [],
   "source": [
    "#question 10"
   ]
  },
  {
   "cell_type": "code",
   "execution_count": 21,
   "id": "fb9414f3",
   "metadata": {},
   "outputs": [
    {
     "data": {
      "text/plain": [
       "'World'"
      ]
     },
     "execution_count": 21,
     "metadata": {},
     "output_type": "execute_result"
    }
   ],
   "source": [
    "str1 = \"Hello, World!\"\n",
    "str1[7:12]"
   ]
  },
  {
   "cell_type": "code",
   "execution_count": null,
   "id": "ec6a1e18",
   "metadata": {},
   "outputs": [],
   "source": []
  }
 ],
 "metadata": {
  "kernelspec": {
   "display_name": "Python 3 (ipykernel)",
   "language": "python",
   "name": "python3"
  },
  "language_info": {
   "codemirror_mode": {
    "name": "ipython",
    "version": 3
   },
   "file_extension": ".py",
   "mimetype": "text/x-python",
   "name": "python",
   "nbconvert_exporter": "python",
   "pygments_lexer": "ipython3",
   "version": "3.9.12"
  }
 },
 "nbformat": 4,
 "nbformat_minor": 5
}
