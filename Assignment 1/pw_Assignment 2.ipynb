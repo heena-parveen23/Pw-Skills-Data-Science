{
 "cells": [
  {
   "cell_type": "code",
   "execution_count": 2,
   "id": "3bfbb37b",
   "metadata": {},
   "outputs": [],
   "source": [
    "# question 1 : we can write comment in python by adding a \"#\" in the starting of a statement.There are basically two types of comments : 1)multiline 2)single line :"
   ]
  },
  {
   "cell_type": "code",
   "execution_count": 3,
   "id": "1b12faaf",
   "metadata": {},
   "outputs": [
    {
     "data": {
      "text/plain": [
       "'\" a multiline comment can be added by putting three apostrophe\\'s in the begining and in the end.\\nthis is an example of a multiline comment.'"
      ]
     },
     "execution_count": 3,
     "metadata": {},
     "output_type": "execute_result"
    }
   ],
   "source": [
    "\"\"\"\" a multiline comment can be added by putting three apostrophe's in the begining and in the end.\n",
    "this is an example of a multiline comment.\"\"\""
   ]
  },
  {
   "cell_type": "code",
   "execution_count": 4,
   "id": "92147354",
   "metadata": {},
   "outputs": [],
   "source": [
    "#question 2:"
   ]
  },
  {
   "cell_type": "code",
   "execution_count": 5,
   "id": "5c502ab6",
   "metadata": {},
   "outputs": [],
   "source": [
    "#A variable is a named location used to store data in the computer's memory. Variables are like containers that hold values, and these values can be of different types, such as integers, floats, strings, or other data types."
   ]
  },
  {
   "cell_type": "code",
   "execution_count": null,
   "id": "547867fe",
   "metadata": {},
   "outputs": [],
   "source": [
    "#we can assign values to variables by just defining their names and write the value after an equal to whichever we want to assign.\n",
    "#for ex: age = 78,count = 0, name = \"pw\""
   ]
  },
  {
   "cell_type": "code",
   "execution_count": null,
   "id": "840086e1",
   "metadata": {},
   "outputs": [],
   "source": [
    "#question 3"
   ]
  },
  {
   "cell_type": "code",
   "execution_count": null,
   "id": "4dae1244",
   "metadata": {},
   "outputs": [],
   "source": [
    "#we can convert one datatype to another by typecasting it\n",
    "#ie. simply writing the type of datatype which we want to convert it into and whithin a bracket write the variable.\n",
    "#for ex: int(input()),int(name),float(weight)"
   ]
  },
  {
   "cell_type": "code",
   "execution_count": 9,
   "id": "545d0f71",
   "metadata": {},
   "outputs": [],
   "source": [
    "#question 4"
   ]
  },
  {
   "cell_type": "code",
   "execution_count": null,
   "id": "bd6b58c5",
   "metadata": {},
   "outputs": [],
   "source": [
    "#we can write it in platforms like jupyter notebook and by pressing shift +enter we run the code"
   ]
  },
  {
   "cell_type": "code",
   "execution_count": 6,
   "id": "f8e3f8fb",
   "metadata": {},
   "outputs": [],
   "source": [
    "#question 5"
   ]
  },
  {
   "cell_type": "code",
   "execution_count": 7,
   "id": "041fb68d",
   "metadata": {},
   "outputs": [],
   "source": [
    "my_list = [1,2,3,4,5]"
   ]
  },
  {
   "cell_type": "code",
   "execution_count": 8,
   "id": "ab01475b",
   "metadata": {},
   "outputs": [
    {
     "data": {
      "text/plain": [
       "[2, 3]"
      ]
     },
     "execution_count": 8,
     "metadata": {},
     "output_type": "execute_result"
    }
   ],
   "source": [
    "my_list[1:3]"
   ]
  },
  {
   "cell_type": "code",
   "execution_count": null,
   "id": "ad444250",
   "metadata": {},
   "outputs": [],
   "source": [
    "#question 6"
   ]
  },
  {
   "cell_type": "code",
   "execution_count": 10,
   "id": "826dd42c",
   "metadata": {},
   "outputs": [],
   "source": [
    "# a number which is of the form a+bi where i is the square root of -1 are called complex numbers, in python, complex numbers can be written by writing j in place of i\n"
   ]
  },
  {
   "cell_type": "code",
   "execution_count": 11,
   "id": "9483bd1e",
   "metadata": {},
   "outputs": [],
   "source": [
    "#for ex:"
   ]
  },
  {
   "cell_type": "code",
   "execution_count": 12,
   "id": "0ddc006f",
   "metadata": {},
   "outputs": [
    {
     "data": {
      "text/plain": [
       "(3+2j)"
      ]
     },
     "execution_count": 12,
     "metadata": {},
     "output_type": "execute_result"
    }
   ],
   "source": [
    "3+2j"
   ]
  },
  {
   "cell_type": "code",
   "execution_count": 13,
   "id": "7de78611",
   "metadata": {},
   "outputs": [],
   "source": [
    "#question 7"
   ]
  },
  {
   "cell_type": "code",
   "execution_count": 14,
   "id": "c81e861b",
   "metadata": {},
   "outputs": [],
   "source": [
    "age = 25"
   ]
  },
  {
   "cell_type": "code",
   "execution_count": 15,
   "id": "ea2b9eb2",
   "metadata": {},
   "outputs": [],
   "source": [
    "#question 8"
   ]
  },
  {
   "cell_type": "code",
   "execution_count": 16,
   "id": "c9e6319c",
   "metadata": {},
   "outputs": [],
   "source": [
    "price = 9.99  #this variable has a float datatype"
   ]
  },
  {
   "cell_type": "code",
   "execution_count": 19,
   "id": "09b158b6",
   "metadata": {},
   "outputs": [],
   "source": [
    "#question 9"
   ]
  },
  {
   "cell_type": "code",
   "execution_count": 17,
   "id": "ce2d89b8",
   "metadata": {},
   "outputs": [],
   "source": [
    "name = \"heena parveen\""
   ]
  },
  {
   "cell_type": "code",
   "execution_count": 18,
   "id": "a9743058",
   "metadata": {},
   "outputs": [
    {
     "data": {
      "text/plain": [
       "'heena parveen'"
      ]
     },
     "execution_count": 18,
     "metadata": {},
     "output_type": "execute_result"
    }
   ],
   "source": [
    "name"
   ]
  },
  {
   "cell_type": "code",
   "execution_count": 20,
   "id": "dc4d3973",
   "metadata": {},
   "outputs": [],
   "source": [
    "#question 10"
   ]
  },
  {
   "cell_type": "code",
   "execution_count": 21,
   "id": "4c0ce871",
   "metadata": {},
   "outputs": [
    {
     "data": {
      "text/plain": [
       "'World'"
      ]
     },
     "execution_count": 21,
     "metadata": {},
     "output_type": "execute_result"
    }
   ],
   "source": [
    "str1 = \"Hello, World!\"\n",
    "str1[7:12]"
   ]
  },
  {
   "cell_type": "code",
   "execution_count": 22,
   "id": "7e54fc06",
   "metadata": {},
   "outputs": [],
   "source": [
    "#question 11"
   ]
  },
  {
   "cell_type": "code",
   "execution_count": 23,
   "id": "9de3b923",
   "metadata": {},
   "outputs": [],
   "source": [
    "is_student = True"
   ]
  },
  {
   "cell_type": "code",
   "execution_count": null,
   "id": "d8915da4",
   "metadata": {},
   "outputs": [],
   "source": []
  }
 ],
 "metadata": {
  "kernelspec": {
   "display_name": "Python 3 (ipykernel)",
   "language": "python",
   "name": "python3"
  },
  "language_info": {
   "codemirror_mode": {
    "name": "ipython",
    "version": 3
   },
   "file_extension": ".py",
   "mimetype": "text/x-python",
   "name": "python",
   "nbconvert_exporter": "python",
   "pygments_lexer": "ipython3",
   "version": "3.9.12"
  }
 },
 "nbformat": 4,
 "nbformat_minor": 5
}
