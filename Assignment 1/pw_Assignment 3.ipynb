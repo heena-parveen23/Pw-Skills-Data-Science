{
 "cells": [
  {
   "cell_type": "code",
   "execution_count": 1,
   "id": "69a2fdaf",
   "metadata": {},
   "outputs": [],
   "source": [
    "#question 1"
   ]
  },
  {
   "cell_type": "code",
   "execution_count": 2,
   "id": "ea392acb",
   "metadata": {},
   "outputs": [],
   "source": [
    "#def keyword is used to create a function"
   ]
  },
  {
   "cell_type": "code",
   "execution_count": null,
   "id": "474bca97",
   "metadata": {},
   "outputs": [],
   "source": [
    "def oddnum() :\n",
    "    l = []\n",
    "    for i in range(25):\n",
    "        if i%2!=0:\n",
    "            l.append(i)\n",
    "    return l "
   ]
  },
  {
   "cell_type": "code",
   "execution_count": 6,
   "id": "b657434e",
   "metadata": {},
   "outputs": [
    {
     "data": {
      "text/plain": [
       "[1, 3, 5, 7, 9, 11, 13, 15, 17, 19, 21, 23]"
      ]
     },
     "execution_count": 6,
     "metadata": {},
     "output_type": "execute_result"
    }
   ],
   "source": [
    "oddnum()"
   ]
  },
  {
   "cell_type": "code",
   "execution_count": 7,
   "id": "18db63af",
   "metadata": {},
   "outputs": [],
   "source": [
    "#question 2:\n",
    "# *args is used to pass indefinite number of arguments in a function\n",
    "# **kwargs is used to pass a dictionary as argument in a function"
   ]
  },
  {
   "cell_type": "code",
   "execution_count": 13,
   "id": "41833fc2",
   "metadata": {},
   "outputs": [],
   "source": [
    "def use_of_args(*args):\n",
    "    return args"
   ]
  },
  {
   "cell_type": "code",
   "execution_count": 14,
   "id": "8f763b7f",
   "metadata": {},
   "outputs": [
    {
     "data": {
      "text/plain": [
       "(12, 2, 3, 4, 5)"
      ]
     },
     "execution_count": 14,
     "metadata": {},
     "output_type": "execute_result"
    }
   ],
   "source": [
    "use_of_args(12,2,3,4,5)"
   ]
  },
  {
   "cell_type": "code",
   "execution_count": 15,
   "id": "ea410898",
   "metadata": {},
   "outputs": [],
   "source": [
    "def use_of_kwargs(**kwargs) :\n",
    "    return kwargs"
   ]
  },
  {
   "cell_type": "code",
   "execution_count": 18,
   "id": "7b1c3375",
   "metadata": {},
   "outputs": [
    {
     "data": {
      "text/plain": [
       "{'a': 'b', 'c': 'd', 'e': 'f'}"
      ]
     },
     "execution_count": 18,
     "metadata": {},
     "output_type": "execute_result"
    }
   ],
   "source": [
    "use_of_kwargs(a=\"b\",c=\"d\",e=\"f\")"
   ]
  },
  {
   "cell_type": "code",
   "execution_count": 19,
   "id": "4d2b9d6e",
   "metadata": {},
   "outputs": [],
   "source": [
    "#question 3:\n",
    "# an iterator is an object that allows objects to be iterated using a for loop.\n",
    "#it has two methods basically : 1) iter() method is used to initialise the iterator object\n",
    "#                               2) next() method is used for iteration ie. to get the next value"
   ]
  },
  {
   "cell_type": "code",
   "execution_count": 20,
   "id": "88a8f1c7",
   "metadata": {},
   "outputs": [],
   "source": [
    "l = [2,4,5,6,8,10,12,14,16,18,20]"
   ]
  },
  {
   "cell_type": "code",
   "execution_count": 25,
   "id": "d5b74f6f",
   "metadata": {},
   "outputs": [],
   "source": [
    "iterator = iter(l)"
   ]
  },
  {
   "cell_type": "code",
   "execution_count": 27,
   "id": "2a08293d",
   "metadata": {},
   "outputs": [
    {
     "name": "stdout",
     "output_type": "stream",
     "text": [
      "4\n",
      "5\n",
      "6\n",
      "8\n",
      "10\n"
     ]
    }
   ],
   "source": [
    "for i in range(5):\n",
    "    i = next(iterator)\n",
    "    print(i)"
   ]
  },
  {
   "cell_type": "code",
   "execution_count": 28,
   "id": "3c33755a",
   "metadata": {},
   "outputs": [],
   "source": [
    "#question 4: A generator function is a special kind of function that allows us to create iterators.The generator function uses \"yield keyword\" to produce series a series of valuesand temporarily stops the execution of the function to resume it later on.\n"
   ]
  },
  {
   "cell_type": "code",
   "execution_count": 29,
   "id": "88884f9d",
   "metadata": {},
   "outputs": [],
   "source": [
    "def arms_gen(x):\n",
    "    for i in x:\n",
    "        yield i**3\n",
    "        "
   ]
  },
  {
   "cell_type": "code",
   "execution_count": 30,
   "id": "6a8df071",
   "metadata": {},
   "outputs": [],
   "source": [
    "l = [2,3,4,5,6]"
   ]
  },
  {
   "cell_type": "code",
   "execution_count": 31,
   "id": "361a2a78",
   "metadata": {},
   "outputs": [
    {
     "data": {
      "text/plain": [
       "<generator object arms_gen at 0x000002A7BB67C040>"
      ]
     },
     "execution_count": 31,
     "metadata": {},
     "output_type": "execute_result"
    }
   ],
   "source": [
    "arms_gen(l)"
   ]
  },
  {
   "cell_type": "code",
   "execution_count": 33,
   "id": "40abbd4a",
   "metadata": {},
   "outputs": [
    {
     "name": "stdout",
     "output_type": "stream",
     "text": [
      "8\n",
      "27\n",
      "64\n",
      "125\n",
      "216\n"
     ]
    }
   ],
   "source": [
    "for i in arms_gen(l):\n",
    "    print(i)"
   ]
  },
  {
   "cell_type": "code",
   "execution_count": 34,
   "id": "0a3098a0",
   "metadata": {},
   "outputs": [],
   "source": []
  },
  {
   "cell_type": "code",
   "execution_count": 35,
   "id": "0eba83e6",
   "metadata": {},
   "outputs": [],
   "source": []
  },
  {
   "cell_type": "code",
   "execution_count": null,
   "id": "215a8a10",
   "metadata": {},
   "outputs": [],
   "source": [
    "#question 5:"
   ]
  },
  {
   "cell_type": "code",
   "execution_count": 44,
   "id": "bd878339",
   "metadata": {},
   "outputs": [
    {
     "name": "stdout",
     "output_type": "stream",
     "text": [
      "2\n",
      "3\n",
      "5\n",
      "7\n",
      "11\n",
      "13\n",
      "17\n",
      "19\n",
      "23\n",
      "29\n",
      "31\n",
      "37\n",
      "41\n",
      "43\n",
      "47\n",
      "53\n",
      "59\n",
      "61\n",
      "67\n",
      "71\n"
     ]
    }
   ],
   "source": [
    "def is_prime(num):\n",
    "    if num < 2:\n",
    "        return False\n",
    "    for i in range(2, int(num**0.5) + 1):\n",
    "        if num % i == 0:\n",
    "            return False\n",
    "    return True\n",
    "\n",
    "def generate_primes(start, end):\n",
    "    for num in range(start, end + 1):\n",
    "        if is_prime(num):\n",
    "            yield num\n",
    "\n",
    "\n",
    "start_range = 0\n",
    "end_range = 71\n",
    "\n",
    "# Generate and print prime numbers in the specified range\n",
    "prime_generator = generate_primes(start_range, end_range)\n",
    "\n",
    "for prime in prime_generator:\n",
    "    print(prime)\n",
    "\n"
   ]
  },
  {
   "cell_type": "code",
   "execution_count": 77,
   "id": "0d104dc4",
   "metadata": {},
   "outputs": [],
   "source": [
    "#question 6:\n",
    "def test_fib():\n",
    "    a,b = 0,1\n",
    "    while True:\n",
    "        yield a\n",
    "        a,b = b,a+b"
   ]
  },
  {
   "cell_type": "code",
   "execution_count": 78,
   "id": "a571b53c",
   "metadata": {},
   "outputs": [],
   "source": [
    "fib = test_fib()"
   ]
  },
  {
   "cell_type": "code",
   "execution_count": 79,
   "id": "d2892ee3",
   "metadata": {},
   "outputs": [
    {
     "name": "stdout",
     "output_type": "stream",
     "text": [
      "0\n",
      "1\n",
      "1\n",
      "2\n",
      "3\n",
      "5\n",
      "8\n",
      "13\n",
      "21\n",
      "34\n"
     ]
    }
   ],
   "source": [
    "for i in range(10):\n",
    "    print(next(fib))"
   ]
  },
  {
   "cell_type": "code",
   "execution_count": 52,
   "id": "323ea43f",
   "metadata": {},
   "outputs": [
    {
     "data": {
      "text/plain": [
       "['p', 'w', 's', 'k', 'i', 'l', 'l', 's']"
      ]
     },
     "execution_count": 52,
     "metadata": {},
     "output_type": "execute_result"
    }
   ],
   "source": [
    "#question 7:\n",
    "s = \"pwskills\"\n",
    "\n",
    "list(map(lambda x : x , s))"
   ]
  },
  {
   "cell_type": "code",
   "execution_count": 88,
   "id": "45599a97",
   "metadata": {},
   "outputs": [],
   "source": [
    "#question 8:\n",
    "def chk_paliandrome(num):\n",
    "    real_num = num\n",
    "    r=0\n",
    "    while(num>0):\n",
    "            digit = num % 10\n",
    "            r = r*10 + digit\n",
    "            num = num // 10\n",
    "    if(real_num == r):\n",
    "        print(\"The given number is paliandrome\")\n",
    "    else:\n",
    "        print(\"The given number is not paliandrome\")"
   ]
  },
  {
   "cell_type": "code",
   "execution_count": 67,
   "id": "d3908be5",
   "metadata": {},
   "outputs": [
    {
     "name": "stdout",
     "output_type": "stream",
     "text": [
      "The given number is paliandrome\n"
     ]
    }
   ],
   "source": [
    "chk_paliandrome(4554)"
   ]
  },
  {
   "cell_type": "code",
   "execution_count": 87,
   "id": "893514cd",
   "metadata": {},
   "outputs": [
    {
     "data": {
      "text/plain": [
       "[1,\n",
       " 3,\n",
       " 5,\n",
       " 7,\n",
       " 9,\n",
       " 11,\n",
       " 13,\n",
       " 15,\n",
       " 17,\n",
       " 19,\n",
       " 21,\n",
       " 23,\n",
       " 25,\n",
       " 27,\n",
       " 29,\n",
       " 31,\n",
       " 33,\n",
       " 35,\n",
       " 37,\n",
       " 39,\n",
       " 41,\n",
       " 43,\n",
       " 45,\n",
       " 47,\n",
       " 49,\n",
       " 51,\n",
       " 53,\n",
       " 55,\n",
       " 57,\n",
       " 59,\n",
       " 61,\n",
       " 63,\n",
       " 65,\n",
       " 67,\n",
       " 69,\n",
       " 71,\n",
       " 73,\n",
       " 75,\n",
       " 77,\n",
       " 79,\n",
       " 81,\n",
       " 83,\n",
       " 85,\n",
       " 87,\n",
       " 89,\n",
       " 91,\n",
       " 93,\n",
       " 95,\n",
       " 97,\n",
       " 99]"
      ]
     },
     "execution_count": 87,
     "metadata": {},
     "output_type": "execute_result"
    }
   ],
   "source": [
    "#question 9:\n",
    "x = list(range(100))\n",
    "list(filter(lambda x : x%2!=0 , x))\n"
   ]
  },
  {
   "cell_type": "code",
   "execution_count": null,
   "id": "cb3f08f7",
   "metadata": {},
   "outputs": [],
   "source": []
  }
 ],
 "metadata": {
  "kernelspec": {
   "display_name": "Python 3 (ipykernel)",
   "language": "python",
   "name": "python3"
  },
  "language_info": {
   "codemirror_mode": {
    "name": "ipython",
    "version": 3
   },
   "file_extension": ".py",
   "mimetype": "text/x-python",
   "name": "python",
   "nbconvert_exporter": "python",
   "pygments_lexer": "ipython3",
   "version": "3.9.12"
  }
 },
 "nbformat": 4,
 "nbformat_minor": 5
}
