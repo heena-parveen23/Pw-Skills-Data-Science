{
 "cells": [
  {
   "cell_type": "code",
   "execution_count": 3,
   "id": "42fc3266",
   "metadata": {},
   "outputs": [],
   "source": [
    "#question 1 :\n",
    "l = [(\"Sachin Tendulkar\",34357),(\"Ricky Ponting\",27483),(\"Jack Kallis\",25534),(\"Virat Kohli\",24936)]\n",
    "\n",
    "sorted_list = sorted(l, key = lambda x : x[1] )"
   ]
  },
  {
   "cell_type": "code",
   "execution_count": 4,
   "id": "0fa7294d",
   "metadata": {},
   "outputs": [
    {
     "data": {
      "text/plain": [
       "[('Virat Kohli', 24936),\n",
       " ('Jack Kallis', 25534),\n",
       " ('Ricky Ponting', 27483),\n",
       " ('Sachin Tendulkar', 34357)]"
      ]
     },
     "execution_count": 4,
     "metadata": {},
     "output_type": "execute_result"
    }
   ],
   "source": [
    "sorted_list"
   ]
  },
  {
   "cell_type": "code",
   "execution_count": 13,
   "id": "a2dffa80",
   "metadata": {},
   "outputs": [],
   "source": [
    "#question 2 :\n",
    "l1 = [1,2,3,4,5,6,7,8,9,10]\n",
    "square = list(map(lambda x : x**2 , l1))"
   ]
  },
  {
   "cell_type": "code",
   "execution_count": 14,
   "id": "d8920dc6",
   "metadata": {},
   "outputs": [
    {
     "data": {
      "text/plain": [
       "[1, 4, 9, 16, 25, 36, 49, 64, 81, 100]"
      ]
     },
     "execution_count": 14,
     "metadata": {},
     "output_type": "execute_result"
    }
   ],
   "source": [
    "square"
   ]
  },
  {
   "cell_type": "code",
   "execution_count": 15,
   "id": "9c6b83f2",
   "metadata": {},
   "outputs": [
    {
     "data": {
      "text/plain": [
       "['1', '2', '3', '4', '5', '6', '7', '8', '9', '10']"
      ]
     },
     "execution_count": 15,
     "metadata": {},
     "output_type": "execute_result"
    }
   ],
   "source": [
    "#question 3:\n",
    "list(map(lambda x : str(x) , l1))"
   ]
  },
  {
   "cell_type": "code",
   "execution_count": 16,
   "id": "9ae55a9b",
   "metadata": {},
   "outputs": [],
   "source": [
    "#question 4:\n",
    "\n",
    "from functools import reduce"
   ]
  },
  {
   "cell_type": "code",
   "execution_count": 24,
   "id": "e7c645ab",
   "metadata": {},
   "outputs": [],
   "source": [
    "l2 = list(range(1,26))"
   ]
  },
  {
   "cell_type": "code",
   "execution_count": 25,
   "id": "4a33f7c1",
   "metadata": {},
   "outputs": [],
   "source": [
    "l2 = l2[0:]"
   ]
  },
  {
   "cell_type": "code",
   "execution_count": 26,
   "id": "0a8aa0ca",
   "metadata": {},
   "outputs": [
    {
     "data": {
      "text/plain": [
       "[1,\n",
       " 2,\n",
       " 3,\n",
       " 4,\n",
       " 5,\n",
       " 6,\n",
       " 7,\n",
       " 8,\n",
       " 9,\n",
       " 10,\n",
       " 11,\n",
       " 12,\n",
       " 13,\n",
       " 14,\n",
       " 15,\n",
       " 16,\n",
       " 17,\n",
       " 18,\n",
       " 19,\n",
       " 20,\n",
       " 21,\n",
       " 22,\n",
       " 23,\n",
       " 24,\n",
       " 25]"
      ]
     },
     "execution_count": 26,
     "metadata": {},
     "output_type": "execute_result"
    }
   ],
   "source": [
    "l2"
   ]
  },
  {
   "cell_type": "code",
   "execution_count": 27,
   "id": "e50ee647",
   "metadata": {},
   "outputs": [
    {
     "data": {
      "text/plain": [
       "15511210043330985984000000"
      ]
     },
     "execution_count": 27,
     "metadata": {},
     "output_type": "execute_result"
    }
   ],
   "source": [
    "reduce(lambda x,y :  x*y , l2)"
   ]
  },
  {
   "cell_type": "code",
   "execution_count": 30,
   "id": "fc7ed8d1",
   "metadata": {},
   "outputs": [
    {
     "data": {
      "text/plain": [
       "[6, 60, 90, 120]"
      ]
     },
     "execution_count": 30,
     "metadata": {},
     "output_type": "execute_result"
    }
   ],
   "source": [
    "#question 5:\n",
    "l3 = [2,3,6,9,27,60,90,120,55,46]\n",
    "list(filter( lambda x : x%2 == 0 and x%3 == 0 , l3))"
   ]
  },
  {
   "cell_type": "code",
   "execution_count": 41,
   "id": "f795cb3a",
   "metadata": {},
   "outputs": [
    {
     "data": {
      "text/plain": [
       "['php', 'aba', 'radar', 'level']"
      ]
     },
     "execution_count": 41,
     "metadata": {},
     "output_type": "execute_result"
    }
   ],
   "source": [
    "#question 6:\n",
    "l4 = [\"python\",\"php\",\"aba\",\"radar\",\"level\"]\n",
    "\n",
    "is_pal = lambda s : s == s[::-1]\n",
    "list(filter(is_pal , l4))"
   ]
  },
  {
   "cell_type": "code",
   "execution_count": null,
   "id": "191de443",
   "metadata": {},
   "outputs": [],
   "source": []
  }
 ],
 "metadata": {
  "kernelspec": {
   "display_name": "Python 3 (ipykernel)",
   "language": "python",
   "name": "python3"
  },
  "language_info": {
   "codemirror_mode": {
    "name": "ipython",
    "version": 3
   },
   "file_extension": ".py",
   "mimetype": "text/x-python",
   "name": "python",
   "nbconvert_exporter": "python",
   "pygments_lexer": "ipython3",
   "version": "3.9.12"
  }
 },
 "nbformat": 4,
 "nbformat_minor": 5
}
