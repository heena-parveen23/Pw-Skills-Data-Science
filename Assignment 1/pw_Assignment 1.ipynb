{
 "cells": [
  {
   "cell_type": "code",
   "execution_count": 1,
   "id": "28530938",
   "metadata": {},
   "outputs": [
    {
     "name": "stdout",
     "output_type": "stream",
     "text": [
      "hi\n"
     ]
    }
   ],
   "source": [
    "var1 = input()"
   ]
  },
  {
   "cell_type": "code",
   "execution_count": 2,
   "id": "1de7bf09",
   "metadata": {},
   "outputs": [],
   "source": [
    "var2 = [1,2+3j,\"michael\",3.4]"
   ]
  },
  {
   "cell_type": "code",
   "execution_count": 3,
   "id": "0bca3f24",
   "metadata": {},
   "outputs": [
    {
     "name": "stdout",
     "output_type": "stream",
     "text": [
      "5.6\n"
     ]
    }
   ],
   "source": [
    "var3 = float(input())"
   ]
  },
  {
   "cell_type": "raw",
   "id": "16ff2664",
   "metadata": {},
   "source": [
    "tup1=(52,\"hina\",3.14,5-7j)"
   ]
  },
  {
   "cell_type": "code",
   "execution_count": 21,
   "id": "0300a164",
   "metadata": {},
   "outputs": [],
   "source": [
    "#question 2"
   ]
  },
  {
   "cell_type": "code",
   "execution_count": 31,
   "id": "f42c9df1",
   "metadata": {},
   "outputs": [],
   "source": [
    "# 1. string , 2. string, 3. list , 4. integer"
   ]
  },
  {
   "cell_type": "code",
   "execution_count": 32,
   "id": "0683363c",
   "metadata": {},
   "outputs": [],
   "source": [
    "#question 3"
   ]
  },
  {
   "cell_type": "code",
   "execution_count": 46,
   "id": "7917eaea",
   "metadata": {},
   "outputs": [],
   "source": [
    "# 1. \"/\" : returns the complete disvision of the given number"
   ]
  },
  {
   "cell_type": "code",
   "execution_count": null,
   "id": "593c1fbb",
   "metadata": {},
   "outputs": [],
   "source": [
    "# 2. \"%\" : returns the remainder"
   ]
  },
  {
   "cell_type": "code",
   "execution_count": 44,
   "id": "4b64adab",
   "metadata": {},
   "outputs": [],
   "source": [
    "# 3. \"//\" : returns the quotient"
   ]
  },
  {
   "cell_type": "code",
   "execution_count": 47,
   "id": "18ec47db",
   "metadata": {},
   "outputs": [],
   "source": [
    "# 4. \"**\": returns power"
   ]
  },
  {
   "cell_type": "code",
   "execution_count": 49,
   "id": "a0642a43",
   "metadata": {},
   "outputs": [
    {
     "data": {
      "text/plain": [
       "1.5"
      ]
     },
     "execution_count": 49,
     "metadata": {},
     "output_type": "execute_result"
    }
   ],
   "source": [
    "3/2"
   ]
  },
  {
   "cell_type": "code",
   "execution_count": 50,
   "id": "ae0d53bf",
   "metadata": {},
   "outputs": [
    {
     "data": {
      "text/plain": [
       "1"
      ]
     },
     "execution_count": 50,
     "metadata": {},
     "output_type": "execute_result"
    }
   ],
   "source": [
    "3//2"
   ]
  },
  {
   "cell_type": "code",
   "execution_count": 51,
   "id": "0c445147",
   "metadata": {},
   "outputs": [
    {
     "data": {
      "text/plain": [
       "1"
      ]
     },
     "execution_count": 51,
     "metadata": {},
     "output_type": "execute_result"
    }
   ],
   "source": [
    "3%2"
   ]
  },
  {
   "cell_type": "code",
   "execution_count": 52,
   "id": "2dedf409",
   "metadata": {},
   "outputs": [
    {
     "data": {
      "text/plain": [
       "9"
      ]
     },
     "execution_count": 52,
     "metadata": {},
     "output_type": "execute_result"
    }
   ],
   "source": [
    "3**2"
   ]
  },
  {
   "cell_type": "code",
   "execution_count": 69,
   "id": "958e80d2",
   "metadata": {},
   "outputs": [],
   "source": [
    "lst1 = [1,{\"key\":\"value\"},None,5+6j,\"ml\",\"python\",(20,30),89.8,3+9j,\"kite\"]"
   ]
  },
  {
   "cell_type": "code",
   "execution_count": 70,
   "id": "387d49e5",
   "metadata": {},
   "outputs": [
    {
     "name": "stdout",
     "output_type": "stream",
     "text": [
      "Element: 1\n",
      "Type: <class 'int'>\n",
      "Element: {'key': 'value'}\n",
      "Type: <class 'dict'>\n",
      "Element: None\n",
      "Type: <class 'NoneType'>\n",
      "Element: (5+6j)\n",
      "Type: <class 'complex'>\n",
      "Element: ml\n",
      "Type: <class 'str'>\n",
      "Element: python\n",
      "Type: <class 'str'>\n",
      "Element: (20, 30)\n",
      "Type: <class 'tuple'>\n",
      "Element: 89.8\n",
      "Type: <class 'float'>\n",
      "Element: (3+9j)\n",
      "Type: <class 'complex'>\n",
      "Element: kite\n",
      "Type: <class 'str'>\n"
     ]
    }
   ],
   "source": [
    "for elements in lst1:\n",
    "    \n",
    "    print(\"Element:\",elements)\n",
    "    item = type(elements)\n",
    "    print(\"Type:\",item)\n"
   ]
  },
  {
   "cell_type": "code",
   "execution_count": 71,
   "id": "ad0ad1a0",
   "metadata": {},
   "outputs": [],
   "source": [
    "#question 5"
   ]
  },
  {
   "cell_type": "code",
   "execution_count": 73,
   "id": "729bb20f",
   "metadata": {},
   "outputs": [
    {
     "name": "stdout",
     "output_type": "stream",
     "text": [
      "Enter no. A : 20\n",
      "Enter no. B: 10\n",
      "The Elemnt A is divisible by B and it is divisible 1 no. of times.\n"
     ]
    }
   ],
   "source": [
    "A = int(input(\"Enter no. A : \"))\n",
    "B = int(input(\"Enter no. B: \"))\n",
    "\n",
    "div = 0\n",
    "while A % B == 0:\n",
    "    A = A/B\n",
    "    div = div+1\n",
    "    \n",
    "if(div>0):\n",
    "    print(f\"The Elemnt A is divisible by B and it is divisible {div} no. of times.\")\n",
    "else:\n",
    "    print(\"Element A is not divisible by B\")\n",
    "    \n",
    "\n",
    "    \n"
   ]
  },
  {
   "cell_type": "code",
   "execution_count": 78,
   "id": "a5bba079",
   "metadata": {},
   "outputs": [
    {
     "name": "stdout",
     "output_type": "stream",
     "text": [
      "element is not divisible by 3\n",
      "element is divisible by 3\n",
      "element is not divisible by 3\n",
      "element is not divisible by 3\n",
      "element is divisible by 3\n",
      "element is not divisible by 3\n",
      "element is not divisible by 3\n",
      "element is divisible by 3\n",
      "element is not divisible by 3\n",
      "element is not divisible by 3\n",
      "element is not divisible by 3\n",
      "element is divisible by 3\n",
      "element is divisible by 3\n",
      "element is not divisible by 3\n",
      "element is not divisible by 3\n",
      "element is not divisible by 3\n",
      "element is not divisible by 3\n",
      "element is not divisible by 3\n",
      "element is not divisible by 3\n",
      "element is not divisible by 3\n",
      "element is divisible by 3\n",
      "element is not divisible by 3\n",
      "element is not divisible by 3\n",
      "element is not divisible by 3\n",
      "element is divisible by 3\n"
     ]
    }
   ],
   "source": [
    "\n",
    "lst2 = [2,3,4,5,6,7,8,90,7,8,7,54,3,2,4,5,67,8,5,4,3,5,67,23,15]\n",
    "\n",
    "\n",
    "for elements in lst2:\n",
    "    if(elements % 3 == 0):\n",
    "        print(\"element is divisible by 3\")\n",
    "    else:\n",
    "        print(\"element is not divisible by 3\")"
   ]
  },
  {
   "cell_type": "code",
   "execution_count": 79,
   "id": "34d7dbd3",
   "metadata": {},
   "outputs": [],
   "source": [
    "# question 7\n",
    "\n",
    "#mutable object : the objects which can be modified ie. there values can be changed after declaring them once are called mutable objects.\n",
    "#ex: list\n",
    "#immutable object : the objects which can't be modified once they get declared are known as immutable objects.\n",
    "#ex : string"
   ]
  },
  {
   "cell_type": "code",
   "execution_count": 80,
   "id": "1554c568",
   "metadata": {},
   "outputs": [
    {
     "data": {
      "text/plain": [
       "[2, 3, 4, 5, 8]"
      ]
     },
     "execution_count": 80,
     "metadata": {},
     "output_type": "execute_result"
    }
   ],
   "source": [
    "list3 = [2,3,4,5,6]\n",
    "list3[4] = 8\n",
    "list3"
   ]
  },
  {
   "cell_type": "code",
   "execution_count": 81,
   "id": "5b59e007",
   "metadata": {},
   "outputs": [
    {
     "ename": "TypeError",
     "evalue": "'str' object does not support item assignment",
     "output_type": "error",
     "traceback": [
      "\u001b[1;31m---------------------------------------------------------------------------\u001b[0m",
      "\u001b[1;31mTypeError\u001b[0m                                 Traceback (most recent call last)",
      "Input \u001b[1;32mIn [81]\u001b[0m, in \u001b[0;36m<cell line: 2>\u001b[1;34m()\u001b[0m\n\u001b[0;32m      1\u001b[0m name \u001b[38;5;241m=\u001b[39m \u001b[38;5;124m\"\u001b[39m\u001b[38;5;124mheena\u001b[39m\u001b[38;5;124m\"\u001b[39m\n\u001b[1;32m----> 2\u001b[0m name[\u001b[38;5;241m2\u001b[39m] \u001b[38;5;241m=\u001b[39m i\n\u001b[0;32m      3\u001b[0m name\n",
      "\u001b[1;31mTypeError\u001b[0m: 'str' object does not support item assignment"
     ]
    }
   ],
   "source": [
    "name = \"heena\"\n",
    "name[2] = i\n",
    "name"
   ]
  },
  {
   "cell_type": "code",
   "execution_count": null,
   "id": "4db743f1",
   "metadata": {},
   "outputs": [],
   "source": []
  }
 ],
 "metadata": {
  "kernelspec": {
   "display_name": "Python 3 (ipykernel)",
   "language": "python",
   "name": "python3"
  },
  "language_info": {
   "codemirror_mode": {
    "name": "ipython",
    "version": 3
   },
   "file_extension": ".py",
   "mimetype": "text/x-python",
   "name": "python",
   "nbconvert_exporter": "python",
   "pygments_lexer": "ipython3",
   "version": "3.9.12"
  }
 },
 "nbformat": 4,
 "nbformat_minor": 5
}
